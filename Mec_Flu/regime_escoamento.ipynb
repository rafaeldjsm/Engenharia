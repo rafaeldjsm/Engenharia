{
  "nbformat": 4,
  "nbformat_minor": 0,
  "metadata": {
    "colab": {
      "name": "regime_escoamento.ipynb",
      "provenance": [],
      "collapsed_sections": [],
      "authorship_tag": "ABX9TyO0KJ4QgNrEDSKijFVcsGBp",
      "include_colab_link": true
    },
    "kernelspec": {
      "name": "python3",
      "display_name": "Python 3"
    },
    "language_info": {
      "name": "python"
    }
  },
  "cells": [
    {
      "cell_type": "markdown",
      "metadata": {
        "id": "view-in-github",
        "colab_type": "text"
      },
      "source": [
        "<a href=\"https://colab.research.google.com/github/rafaeldjsm/Engenharia/blob/main/Mec_Flu/regime_escoamento.ipynb\" target=\"_parent\"><img src=\"https://colab.research.google.com/assets/colab-badge.svg\" alt=\"Open In Colab\"/></a>"
      ]
    },
    {
      "cell_type": "markdown",
      "metadata": {
        "id": "xrFh88H6E3q8"
      },
      "source": [
        "# Cálculo do Valor do Número de Reynolds para definição de regime de escoamento.\n",
        "\n",
        "## Uma maneira de testar a integração colab google sheets."
      ]
    },
    {
      "cell_type": "code",
      "metadata": {
        "id": "Un1bYgLJZEa2"
      },
      "source": [
        "!pip install --upgrade gspread"
      ],
      "execution_count": null,
      "outputs": []
    },
    {
      "cell_type": "code",
      "metadata": {
        "id": "gTL8-hfIE0rF"
      },
      "source": [
        "import pandas as pd\n",
        "import gspread\n",
        "from oauth2client.client import GoogleCredentials\n",
        "from google.colab import auth\n",
        "auth.authenticate_user()\n",
        "\n",
        "gc = gspread.authorize(GoogleCredentials.get_application_default())\n",
        "\n",
        "spreadsheet = gc.open_by_url('https://docs.google.com/spreadsheets/d/1PP29m4YoU3fDAH60vssQdMBgG3onDTjKx4hwUzuRVqQ') # use this when you have the complete url (the edit#gid means permission)\n",
        "sheet =  spreadsheet.get_worksheet(0)  # 0 means the first sheet in the file\n"
      ],
      "execution_count": 2,
      "outputs": []
    },
    {
      "cell_type": "code",
      "metadata": {
        "colab": {
          "base_uri": "https://localhost:8080/"
        },
        "id": "FBwBf3OjdWiy",
        "outputId": "d303c38b-6b1d-4a63-8d33-7d2e12d2d662"
      },
      "source": [
        "sheet.col_values(2)"
      ],
      "execution_count": 3,
      "outputs": [
        {
          "output_type": "execute_result",
          "data": {
            "text/plain": [
              "['1.994,02', '1.000,00', '0,05', '0,04', '0,001003']"
            ]
          },
          "metadata": {},
          "execution_count": 3
        }
      ]
    },
    {
      "cell_type": "code",
      "metadata": {
        "colab": {
          "base_uri": "https://localhost:8080/"
        },
        "id": "EXXSFHw4ZiIj",
        "outputId": "e9e3b43f-5b7d-4910-e17b-90e35fb466f9"
      },
      "source": [
        "values_list = sheet.col_values(2)[1:] # Como algumas vezes a celula do número de Reynolds pode estar vazia, analisaremos as celulas após ela.\n",
        "values_list = [k.replace(\".\",\"\") for k in values_list] # Como os valores são mportados em strings, retiro os pontos marcadores da milhagem\n",
        "values_list = [k.replace(\",\",\".\") for k in values_list] # Como os valores são mportados em strings, troco o indicador de decimal de \",\" para \".\"\n",
        "values_list = [float(k) for k in values_list] #Converto para float\n",
        "values_list"
      ],
      "execution_count": 4,
      "outputs": [
        {
          "output_type": "execute_result",
          "data": {
            "text/plain": [
              "[1000.0, 0.05, 0.04, 0.001003]"
            ]
          },
          "metadata": {},
          "execution_count": 4
        }
      ]
    },
    {
      "cell_type": "code",
      "metadata": {
        "colab": {
          "base_uri": "https://localhost:8080/"
        },
        "id": "4zDLBTwlXD5r",
        "outputId": "0c695669-b0b4-449f-bee9-b46668914371"
      },
      "source": [
        "Re = values_list[0]*values_list[1]*values_list[2]/values_list[3] #Utilizo os valores obtidos para atualizar a célula referente ao nuúmeor de Reynolds\n",
        "\n",
        "sheet.update(\"B1\", Re)"
      ],
      "execution_count": 5,
      "outputs": [
        {
          "output_type": "execute_result",
          "data": {
            "text/plain": [
              "{'spreadsheetId': '1PP29m4YoU3fDAH60vssQdMBgG3onDTjKx4hwUzuRVqQ',\n",
              " 'updatedCells': 1,\n",
              " 'updatedColumns': 1,\n",
              " 'updatedRange': \"'Página1'!B1\",\n",
              " 'updatedRows': 1}"
            ]
          },
          "metadata": {},
          "execution_count": 5
        }
      ]
    },
    {
      "cell_type": "code",
      "metadata": {
        "id": "RNdMoVizgzRG"
      },
      "source": [
        "if Re <= 2000:\n",
        "  sheet.update(\"C1\", \"Regime Laminar\")\n",
        "elif Re > 2000 and Re <= 4000:\n",
        "  sheet.update(\"C1\", \"Regime de Transição\")\n",
        "else:\n",
        "  sheet.update(\"C1\", \"Regime Turbulento\")"
      ],
      "execution_count": 6,
      "outputs": []
    }
  ]
}