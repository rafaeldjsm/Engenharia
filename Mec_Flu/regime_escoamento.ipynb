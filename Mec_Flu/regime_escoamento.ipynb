{
  "nbformat": 4,
  "nbformat_minor": 0,
  "metadata": {
    "colab": {
      "name": "regime_escoamento.ipynb",
      "provenance": [],
      "collapsed_sections": [],
      "authorship_tag": "ABX9TyMj7t2fvdiseJD0+wYnkFDe",
      "include_colab_link": true
    },
    "kernelspec": {
      "name": "python3",
      "display_name": "Python 3"
    },
    "language_info": {
      "name": "python"
    }
  },
  "cells": [
    {
      "cell_type": "markdown",
      "metadata": {
        "id": "view-in-github",
        "colab_type": "text"
      },
      "source": [
        "<a href=\"https://colab.research.google.com/github/rafaeldjsm/Engenharia/blob/main/Mec_Flu/regime_escoamento.ipynb\" target=\"_parent\"><img src=\"https://colab.research.google.com/assets/colab-badge.svg\" alt=\"Open In Colab\"/></a>"
      ]
    },
    {
      "cell_type": "markdown",
      "metadata": {
        "id": "xrFh88H6E3q8"
      },
      "source": [
        "# Cálculo do Valor do Número de Reynolds para definição de regime de escoamento.\n",
        "\n",
        "## Uma maneira de testar a integração colab google sheets."
      ]
    },
    {
      "cell_type": "code",
      "metadata": {
        "id": "Un1bYgLJZEa2"
      },
      "source": [
        "!pip install --upgrade gspread"
      ],
      "execution_count": null,
      "outputs": []
    },
    {
      "cell_type": "code",
      "metadata": {
        "id": "gTL8-hfIE0rF"
      },
      "source": [
        "import pandas as pd\n",
        "import gspread\n",
        "from oauth2client.client import GoogleCredentials\n",
        "from google.colab import auth\n",
        "auth.authenticate_user()\n",
        "\n",
        "gc = gspread.authorize(GoogleCredentials.get_application_default())\n",
        "\n",
        "spreadsheet = gc.open_by_url('https://docs.google.com/spreadsheets/d/1PP29m4YoU3fDAH60vssQdMBgG3onDTjKx4hwUzuRVqQ') # use this when you have the complete url (the edit#gid means permission)\n",
        "sheet =  spreadsheet.get_worksheet(0)  # 0 means the first sheet in the file\n"
      ],
      "execution_count": 2,
      "outputs": []
    },
    {
      "cell_type": "code",
      "metadata": {
        "colab": {
          "base_uri": "https://localhost:8080/"
        },
        "id": "FBwBf3OjdWiy",
        "outputId": "2ddebeac-a79e-4ae1-9daa-ef060c5ed912"
      },
      "source": [
        "sheet.col_values(2)"
      ],
      "execution_count": 3,
      "outputs": [
        {
          "output_type": "execute_result",
          "data": {
            "text/plain": [
              "['', '1.000,00', '0,05', '0,04', '0,001003']"
            ]
          },
          "metadata": {},
          "execution_count": 3
        }
      ]
    },
    {
      "cell_type": "code",
      "metadata": {
        "colab": {
          "base_uri": "https://localhost:8080/"
        },
        "id": "EXXSFHw4ZiIj",
        "outputId": "eab22b18-d765-464c-8684-191147282af9"
      },
      "source": [
        "values_list = sheet.col_values(2)[1:]\n",
        "values_list = [k.replace(\".\",\"\") for k in values_list] # Como os valores são mportados em strings, retiro os pontos marcadores da milhagem\n",
        "values_list = [k.replace(\",\",\".\") for k in values_list] # Como os valores são mportados em strings, troco o indicador de decimal de \",\" para \".\"\n",
        "values_list = [float(k) for k in values_list] #Converto para float\n",
        "values_list"
      ],
      "execution_count": 4,
      "outputs": [
        {
          "output_type": "execute_result",
          "data": {
            "text/plain": [
              "[1000.0, 0.05, 0.04, 0.001003]"
            ]
          },
          "metadata": {},
          "execution_count": 4
        }
      ]
    },
    {
      "cell_type": "code",
      "metadata": {
        "colab": {
          "base_uri": "https://localhost:8080/"
        },
        "id": "4zDLBTwlXD5r",
        "outputId": "76bddbdb-e3c8-4fc5-e7b4-8eb4ad043233"
      },
      "source": [
        "Re = values_list[0]*values_list[1]*values_list[2]/values_list[3] #Utilizo os valores obtidos para atualizar a célula referente ao nuúmeor de Reynolds\n",
        "\n",
        "sheet.update(\"B1\", Re)"
      ],
      "execution_count": 5,
      "outputs": [
        {
          "output_type": "execute_result",
          "data": {
            "text/plain": [
              "{'spreadsheetId': '1PP29m4YoU3fDAH60vssQdMBgG3onDTjKx4hwUzuRVqQ',\n",
              " 'updatedCells': 1,\n",
              " 'updatedColumns': 1,\n",
              " 'updatedRange': \"'Página1'!B1\",\n",
              " 'updatedRows': 1}"
            ]
          },
          "metadata": {},
          "execution_count": 5
        }
      ]
    }
  ]
}