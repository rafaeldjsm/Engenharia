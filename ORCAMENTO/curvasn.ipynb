{
  "nbformat": 4,
  "nbformat_minor": 0,
  "metadata": {
    "colab": {
      "name": "curvasn.ipynb",
      "provenance": [],
      "collapsed_sections": [],
      "authorship_tag": "ABX9TyPnL1DqsSp93gdEK8v1p8nk",
      "include_colab_link": true
    },
    "kernelspec": {
      "name": "python3",
      "display_name": "Python 3"
    },
    "language_info": {
      "name": "python"
    }
  },
  "cells": [
    {
      "cell_type": "markdown",
      "metadata": {
        "id": "view-in-github",
        "colab_type": "text"
      },
      "source": [
        "<a href=\"https://colab.research.google.com/github/rafaeldjsm/Engenharia/blob/main/ORCAMENTO/curvasn.ipynb\" target=\"_parent\"><img src=\"https://colab.research.google.com/assets/colab-badge.svg\" alt=\"Open In Colab\"/></a>"
      ]
    },
    {
      "cell_type": "code",
      "execution_count": 1,
      "metadata": {
        "id": "2jcH3yT-3JmB"
      },
      "outputs": [],
      "source": [
        "from scipy.stats import norm\n",
        "import numpy as np\n",
        "\n",
        "def cvsn(n):\n",
        "    '''\n",
        "    Gera uma curva S de desembolso considerando uma S padrão normal\n",
        "    '''\n",
        "    x = np.arange(n)\n",
        "    ynac = [norm.cdf((t+1)/n,0.5,0.2) for t in x]\n",
        "    y = [ynac[0]] + [ynac[t+1]-ynac[t] for t in x[:-1]]\n",
        "    # Garantindo que o acumulado total seja 100%\n",
        "    y = y/sum(y)\n",
        "    ynac = np.cumsum(y)\n",
        "    return ynac, y"
      ]
    }
  ]
}